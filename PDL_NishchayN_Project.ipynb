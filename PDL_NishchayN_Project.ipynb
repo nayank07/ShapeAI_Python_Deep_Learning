{
  "nbformat": 4,
  "nbformat_minor": 0,
  "metadata": {
    "colab": {
      "name": "PDL_NishchayN_Project.ipynb",
      "provenance": []
    },
    "kernelspec": {
      "name": "python3",
      "display_name": "Python 3"
    },
    "language_info": {
      "name": "python"
    }
  },
  "cells": [
    {
      "cell_type": "markdown",
      "metadata": {
        "id": "cAd9gO-xK-bY"
      },
      "source": [
        "# Deep Neural Network to Predict Cancer \n",
        "## Nishchay N"
      ]
    },
    {
      "cell_type": "markdown",
      "metadata": {
        "id": "cK6NsTEFLHr2"
      },
      "source": [
        "## Breast Cancer DataSet"
      ]
    },
    {
      "cell_type": "code",
      "metadata": {
        "id": "kqo-Onf5LIVk"
      },
      "source": [
        "# Importing DataSet\n",
        "\n",
        "from sklearn.datasets import load_breast_cancer\n",
        "Data = load_breast_cancer()"
      ],
      "execution_count": 1,
      "outputs": []
    },
    {
      "cell_type": "code",
      "metadata": {
        "colab": {
          "base_uri": "https://localhost:8080/"
        },
        "id": "7BGgJFdyLL_y",
        "outputId": "4b373017-9229-462f-d41e-c123efa95ad6"
      },
      "source": [
        "# Data Set Display\n",
        "print(Data.DESCR)"
      ],
      "execution_count": 2,
      "outputs": [
        {
          "output_type": "stream",
          "text": [
            ".. _breast_cancer_dataset:\n",
            "\n",
            "Breast cancer wisconsin (diagnostic) dataset\n",
            "--------------------------------------------\n",
            "\n",
            "**Data Set Characteristics:**\n",
            "\n",
            "    :Number of Instances: 569\n",
            "\n",
            "    :Number of Attributes: 30 numeric, predictive attributes and the class\n",
            "\n",
            "    :Attribute Information:\n",
            "        - radius (mean of distances from center to points on the perimeter)\n",
            "        - texture (standard deviation of gray-scale values)\n",
            "        - perimeter\n",
            "        - area\n",
            "        - smoothness (local variation in radius lengths)\n",
            "        - compactness (perimeter^2 / area - 1.0)\n",
            "        - concavity (severity of concave portions of the contour)\n",
            "        - concave points (number of concave portions of the contour)\n",
            "        - symmetry \n",
            "        - fractal dimension (\"coastline approximation\" - 1)\n",
            "\n",
            "        The mean, standard error, and \"worst\" or largest (mean of the three\n",
            "        largest values) of these features were computed for each image,\n",
            "        resulting in 30 features.  For instance, field 3 is Mean Radius, field\n",
            "        13 is Radius SE, field 23 is Worst Radius.\n",
            "\n",
            "        - class:\n",
            "                - WDBC-Malignant\n",
            "                - WDBC-Benign\n",
            "\n",
            "    :Summary Statistics:\n",
            "\n",
            "    ===================================== ====== ======\n",
            "                                           Min    Max\n",
            "    ===================================== ====== ======\n",
            "    radius (mean):                        6.981  28.11\n",
            "    texture (mean):                       9.71   39.28\n",
            "    perimeter (mean):                     43.79  188.5\n",
            "    area (mean):                          143.5  2501.0\n",
            "    smoothness (mean):                    0.053  0.163\n",
            "    compactness (mean):                   0.019  0.345\n",
            "    concavity (mean):                     0.0    0.427\n",
            "    concave points (mean):                0.0    0.201\n",
            "    symmetry (mean):                      0.106  0.304\n",
            "    fractal dimension (mean):             0.05   0.097\n",
            "    radius (standard error):              0.112  2.873\n",
            "    texture (standard error):             0.36   4.885\n",
            "    perimeter (standard error):           0.757  21.98\n",
            "    area (standard error):                6.802  542.2\n",
            "    smoothness (standard error):          0.002  0.031\n",
            "    compactness (standard error):         0.002  0.135\n",
            "    concavity (standard error):           0.0    0.396\n",
            "    concave points (standard error):      0.0    0.053\n",
            "    symmetry (standard error):            0.008  0.079\n",
            "    fractal dimension (standard error):   0.001  0.03\n",
            "    radius (worst):                       7.93   36.04\n",
            "    texture (worst):                      12.02  49.54\n",
            "    perimeter (worst):                    50.41  251.2\n",
            "    area (worst):                         185.2  4254.0\n",
            "    smoothness (worst):                   0.071  0.223\n",
            "    compactness (worst):                  0.027  1.058\n",
            "    concavity (worst):                    0.0    1.252\n",
            "    concave points (worst):               0.0    0.291\n",
            "    symmetry (worst):                     0.156  0.664\n",
            "    fractal dimension (worst):            0.055  0.208\n",
            "    ===================================== ====== ======\n",
            "\n",
            "    :Missing Attribute Values: None\n",
            "\n",
            "    :Class Distribution: 212 - Malignant, 357 - Benign\n",
            "\n",
            "    :Creator:  Dr. William H. Wolberg, W. Nick Street, Olvi L. Mangasarian\n",
            "\n",
            "    :Donor: Nick Street\n",
            "\n",
            "    :Date: November, 1995\n",
            "\n",
            "This is a copy of UCI ML Breast Cancer Wisconsin (Diagnostic) datasets.\n",
            "https://goo.gl/U2Uwz2\n",
            "\n",
            "Features are computed from a digitized image of a fine needle\n",
            "aspirate (FNA) of a breast mass.  They describe\n",
            "characteristics of the cell nuclei present in the image.\n",
            "\n",
            "Separating plane described above was obtained using\n",
            "Multisurface Method-Tree (MSM-T) [K. P. Bennett, \"Decision Tree\n",
            "Construction Via Linear Programming.\" Proceedings of the 4th\n",
            "Midwest Artificial Intelligence and Cognitive Science Society,\n",
            "pp. 97-101, 1992], a classification method which uses linear\n",
            "programming to construct a decision tree.  Relevant features\n",
            "were selected using an exhaustive search in the space of 1-4\n",
            "features and 1-3 separating planes.\n",
            "\n",
            "The actual linear program used to obtain the separating plane\n",
            "in the 3-dimensional space is that described in:\n",
            "[K. P. Bennett and O. L. Mangasarian: \"Robust Linear\n",
            "Programming Discrimination of Two Linearly Inseparable Sets\",\n",
            "Optimization Methods and Software 1, 1992, 23-34].\n",
            "\n",
            "This database is also available through the UW CS ftp server:\n",
            "\n",
            "ftp ftp.cs.wisc.edu\n",
            "cd math-prog/cpo-dataset/machine-learn/WDBC/\n",
            "\n",
            ".. topic:: References\n",
            "\n",
            "   - W.N. Street, W.H. Wolberg and O.L. Mangasarian. Nuclear feature extraction \n",
            "     for breast tumor diagnosis. IS&T/SPIE 1993 International Symposium on \n",
            "     Electronic Imaging: Science and Technology, volume 1905, pages 861-870,\n",
            "     San Jose, CA, 1993.\n",
            "   - O.L. Mangasarian, W.N. Street and W.H. Wolberg. Breast cancer diagnosis and \n",
            "     prognosis via linear programming. Operations Research, 43(4), pages 570-577, \n",
            "     July-August 1995.\n",
            "   - W.H. Wolberg, W.N. Street, and O.L. Mangasarian. Machine learning techniques\n",
            "     to diagnose breast cancer from fine-needle aspirates. Cancer Letters 77 (1994) \n",
            "     163-171.\n"
          ],
          "name": "stdout"
        }
      ]
    },
    {
      "cell_type": "code",
      "metadata": {
        "colab": {
          "base_uri": "https://localhost:8080/"
        },
        "id": "IZWAgzZ4LQCq",
        "outputId": "15b0890c-2904-4057-aadc-d017b1f98231"
      },
      "source": [
        "# Assigning features and Target from Data Set\n",
        "features = Data.data\n",
        "target = Data.target\n",
        "\n",
        "print(features.shape)\n",
        "print(target.shape)"
      ],
      "execution_count": 3,
      "outputs": [
        {
          "output_type": "stream",
          "text": [
            "(569, 30)\n",
            "(569,)\n"
          ],
          "name": "stdout"
        }
      ]
    },
    {
      "cell_type": "code",
      "metadata": {
        "colab": {
          "base_uri": "https://localhost:8080/"
        },
        "id": "wsmhLIxqLTdC",
        "outputId": "f86a1b73-5be5-491c-b972-e8bd2f51a4ce"
      },
      "source": [
        "# Spliting of Data Set to Train and Test Dataset\n",
        "from sklearn.model_selection import train_test_split\n",
        "\n",
        "X_train, X_test, y_train, y_test = train_test_split(features, target, test_size=0.2)\n",
        "\n",
        "print(X_train.shape)\n",
        "print(y_train.shape)\n",
        "print(X_test.shape)\n",
        "print(y_test.shape)"
      ],
      "execution_count": 4,
      "outputs": [
        {
          "output_type": "stream",
          "text": [
            "(455, 30)\n",
            "(455,)\n",
            "(114, 30)\n",
            "(114,)\n"
          ],
          "name": "stdout"
        }
      ]
    },
    {
      "cell_type": "code",
      "metadata": {
        "id": "bOMM3uViLXby"
      },
      "source": [
        "from keras.models import Sequential\n",
        "from keras.layers import Dense"
      ],
      "execution_count": 5,
      "outputs": []
    },
    {
      "cell_type": "markdown",
      "metadata": {
        "id": "cMTsmYd-L9LO"
      },
      "source": [
        "Training of the Model"
      ]
    },
    {
      "cell_type": "code",
      "metadata": {
        "id": "Ae8wxZIZLaWH"
      },
      "source": [
        "model = Sequential()\n",
        "model.add(Dense(32, input_dim = 30, activation='relu'))\n",
        "model.add(Dense(64, activation='relu'))\n",
        "model.add(Dense(1, activation='sigmoid'))"
      ],
      "execution_count": 6,
      "outputs": []
    },
    {
      "cell_type": "code",
      "metadata": {
        "colab": {
          "base_uri": "https://localhost:8080/"
        },
        "id": "MPqiTz7vLcGv",
        "outputId": "e342e3c3-341f-4c15-9b67-6cf632352810"
      },
      "source": [
        "model.compile(optimizer='adam', loss='binary_crossentropy', metrics=['accuracy'])\n",
        "model.summary()"
      ],
      "execution_count": 7,
      "outputs": [
        {
          "output_type": "stream",
          "text": [
            "Model: \"sequential\"\n",
            "_________________________________________________________________\n",
            "Layer (type)                 Output Shape              Param #   \n",
            "=================================================================\n",
            "dense (Dense)                (None, 32)                992       \n",
            "_________________________________________________________________\n",
            "dense_1 (Dense)              (None, 64)                2112      \n",
            "_________________________________________________________________\n",
            "dense_2 (Dense)              (None, 1)                 65        \n",
            "=================================================================\n",
            "Total params: 3,169\n",
            "Trainable params: 3,169\n",
            "Non-trainable params: 0\n",
            "_________________________________________________________________\n"
          ],
          "name": "stdout"
        }
      ]
    },
    {
      "cell_type": "code",
      "metadata": {
        "colab": {
          "base_uri": "https://localhost:8080/"
        },
        "id": "lLEr6bzBLd-x",
        "outputId": "760c5654-9149-414c-e949-475a4ec26603"
      },
      "source": [
        "model.fit(X_train, y_train, epochs=10, batch_size = 32)"
      ],
      "execution_count": 8,
      "outputs": [
        {
          "output_type": "stream",
          "text": [
            "Epoch 1/10\n",
            "15/15 [==============================] - 14s 2ms/step - loss: 19.3186 - accuracy: 0.4574\n",
            "Epoch 2/10\n",
            "15/15 [==============================] - 0s 2ms/step - loss: 2.2734 - accuracy: 0.6254\n",
            "Epoch 3/10\n",
            "15/15 [==============================] - 0s 2ms/step - loss: 0.6702 - accuracy: 0.7972\n",
            "Epoch 4/10\n",
            "15/15 [==============================] - 0s 1ms/step - loss: 0.2791 - accuracy: 0.8872\n",
            "Epoch 5/10\n",
            "15/15 [==============================] - 0s 2ms/step - loss: 0.2427 - accuracy: 0.9147\n",
            "Epoch 6/10\n",
            "15/15 [==============================] - 0s 2ms/step - loss: 0.3500 - accuracy: 0.8805\n",
            "Epoch 7/10\n",
            "15/15 [==============================] - 0s 1ms/step - loss: 0.2006 - accuracy: 0.9312\n",
            "Epoch 8/10\n",
            "15/15 [==============================] - 0s 2ms/step - loss: 0.2187 - accuracy: 0.9191\n",
            "Epoch 9/10\n",
            "15/15 [==============================] - 0s 1ms/step - loss: 0.1708 - accuracy: 0.9253\n",
            "Epoch 10/10\n",
            "15/15 [==============================] - 0s 1ms/step - loss: 0.1660 - accuracy: 0.9434\n"
          ],
          "name": "stdout"
        },
        {
          "output_type": "execute_result",
          "data": {
            "text/plain": [
              "<keras.callbacks.History at 0x7f7c5aa8c2d0>"
            ]
          },
          "metadata": {
            "tags": []
          },
          "execution_count": 8
        }
      ]
    },
    {
      "cell_type": "markdown",
      "metadata": {
        "id": "01N0c-WvMEl-"
      },
      "source": [
        "Testing of the Model"
      ]
    },
    {
      "cell_type": "code",
      "metadata": {
        "colab": {
          "base_uri": "https://localhost:8080/"
        },
        "id": "zJYFWosvLgDZ",
        "outputId": "ce0ca865-9e4b-417c-c54a-a5a721b6111f"
      },
      "source": [
        "scores = model.evaluate(X_test, y_test)\n",
        "print(scores)"
      ],
      "execution_count": 9,
      "outputs": [
        {
          "output_type": "stream",
          "text": [
            "4/4 [==============================] - 0s 3ms/step - loss: 0.3801 - accuracy: 0.8772\n",
            "[0.3801397979259491, 0.8771929740905762]\n"
          ],
          "name": "stdout"
        }
      ]
    },
    {
      "cell_type": "code",
      "metadata": {
        "colab": {
          "base_uri": "https://localhost:8080/"
        },
        "id": "vMgK5_coLiyY",
        "outputId": "83df5754-a13c-4937-b7f2-1119de58befb"
      },
      "source": [
        "predictions = model.predict(X_test)\n",
        "label=[]\n",
        "\n",
        "for pred in predictions:\n",
        "  if pred>=0.5:\n",
        "    print(\"Malinent\")\n",
        "  else:\n",
        "    print(\"Benign\")"
      ],
      "execution_count": 10,
      "outputs": [
        {
          "output_type": "stream",
          "text": [
            "Malinent\n",
            "Malinent\n",
            "Malinent\n",
            "Malinent\n",
            "Malinent\n",
            "Benign\n",
            "Malinent\n",
            "Benign\n",
            "Benign\n",
            "Malinent\n",
            "Malinent\n",
            "Benign\n",
            "Malinent\n",
            "Benign\n",
            "Malinent\n",
            "Malinent\n",
            "Malinent\n",
            "Malinent\n",
            "Malinent\n",
            "Malinent\n",
            "Malinent\n",
            "Benign\n",
            "Malinent\n",
            "Benign\n",
            "Malinent\n",
            "Malinent\n",
            "Malinent\n",
            "Malinent\n",
            "Malinent\n",
            "Malinent\n",
            "Benign\n",
            "Malinent\n",
            "Malinent\n",
            "Malinent\n",
            "Malinent\n",
            "Benign\n",
            "Malinent\n",
            "Malinent\n",
            "Malinent\n",
            "Malinent\n",
            "Malinent\n",
            "Malinent\n",
            "Benign\n",
            "Malinent\n",
            "Malinent\n",
            "Malinent\n",
            "Malinent\n",
            "Malinent\n",
            "Malinent\n",
            "Benign\n",
            "Malinent\n",
            "Malinent\n",
            "Malinent\n",
            "Malinent\n",
            "Malinent\n",
            "Malinent\n",
            "Malinent\n",
            "Malinent\n",
            "Malinent\n",
            "Malinent\n",
            "Malinent\n",
            "Malinent\n",
            "Malinent\n",
            "Benign\n",
            "Benign\n",
            "Benign\n",
            "Benign\n",
            "Benign\n",
            "Malinent\n",
            "Malinent\n",
            "Malinent\n",
            "Malinent\n",
            "Benign\n",
            "Malinent\n",
            "Malinent\n",
            "Benign\n",
            "Malinent\n",
            "Malinent\n",
            "Benign\n",
            "Benign\n",
            "Malinent\n",
            "Benign\n",
            "Malinent\n",
            "Malinent\n",
            "Malinent\n",
            "Malinent\n",
            "Benign\n",
            "Malinent\n",
            "Benign\n",
            "Malinent\n",
            "Benign\n",
            "Benign\n",
            "Malinent\n",
            "Malinent\n",
            "Malinent\n",
            "Malinent\n",
            "Malinent\n",
            "Malinent\n",
            "Malinent\n",
            "Malinent\n",
            "Benign\n",
            "Malinent\n",
            "Malinent\n",
            "Malinent\n",
            "Benign\n",
            "Malinent\n",
            "Benign\n",
            "Malinent\n",
            "Malinent\n",
            "Malinent\n",
            "Malinent\n",
            "Malinent\n",
            "Malinent\n",
            "Malinent\n"
          ],
          "name": "stdout"
        }
      ]
    },
    {
      "cell_type": "code",
      "metadata": {
        "id": "rnEH3BdHMHny"
      },
      "source": [
        ""
      ],
      "execution_count": null,
      "outputs": []
    }
  ]
}